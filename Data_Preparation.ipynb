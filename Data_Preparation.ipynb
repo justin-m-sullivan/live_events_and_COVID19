{
 "cells": [
  {
   "cell_type": "markdown",
   "metadata": {},
   "source": [
    "# Data Preparation"
   ]
  },
  {
   "cell_type": "code",
   "execution_count": 1,
   "metadata": {},
   "outputs": [],
   "source": [
    "import pandas as pd\n",
    "import numpy as np\n",
    "import matplotlib.pyplot as plt\n",
    "import seaborn as sns"
   ]
  },
  {
   "cell_type": "code",
   "execution_count": 2,
   "metadata": {},
   "outputs": [
    {
     "data": {
      "text/html": [
       "<div>\n",
       "<style scoped>\n",
       "    .dataframe tbody tr th:only-of-type {\n",
       "        vertical-align: middle;\n",
       "    }\n",
       "\n",
       "    .dataframe tbody tr th {\n",
       "        vertical-align: top;\n",
       "    }\n",
       "\n",
       "    .dataframe thead th {\n",
       "        text-align: right;\n",
       "    }\n",
       "</style>\n",
       "<table border=\"1\" class=\"dataframe\">\n",
       "  <thead>\n",
       "    <tr style=\"text-align: right;\">\n",
       "      <th></th>\n",
       "      <th>Unnamed: 0</th>\n",
       "      <th>TM_id</th>\n",
       "      <th>TM_name</th>\n",
       "      <th>TM_artist</th>\n",
       "      <th>TM_venue</th>\n",
       "      <th>TM_venue_city</th>\n",
       "      <th>TM_venue_state</th>\n",
       "      <th>TM_venue _lat</th>\n",
       "      <th>TM_venue_long</th>\n",
       "      <th>TM_date</th>\n",
       "      <th>...</th>\n",
       "      <th>max</th>\n",
       "      <th>min</th>\n",
       "      <th>type_x</th>\n",
       "      <th>primary</th>\n",
       "      <th>segment</th>\n",
       "      <th>genre</th>\n",
       "      <th>subGenre</th>\n",
       "      <th>type_y</th>\n",
       "      <th>subType</th>\n",
       "      <th>family</th>\n",
       "    </tr>\n",
       "  </thead>\n",
       "  <tbody>\n",
       "    <tr>\n",
       "      <th>0</th>\n",
       "      <td>0</td>\n",
       "      <td>G5dIZp0wKy-SF</td>\n",
       "      <td>Justin Furstenfeld of Blue October (21+ Event)...</td>\n",
       "      <td>['Justin Furstenfeld']</td>\n",
       "      <td>Whitewater Amphitheater</td>\n",
       "      <td>New Braunfels</td>\n",
       "      <td>TX</td>\n",
       "      <td>29.862013</td>\n",
       "      <td>-98.156969</td>\n",
       "      <td>2021-04-24T01:00:00Z</td>\n",
       "      <td>...</td>\n",
       "      <td>102.0</td>\n",
       "      <td>43.0</td>\n",
       "      <td>standard</td>\n",
       "      <td>True</td>\n",
       "      <td>Music</td>\n",
       "      <td>Rock</td>\n",
       "      <td>Pop</td>\n",
       "      <td>{'id': 'KZAyXgnZfZ7v7nI', 'name': 'Undefined'}</td>\n",
       "      <td>{'id': 'KZFzBErXgnZfZ7v7lJ', 'name': 'Undefined'}</td>\n",
       "      <td>False</td>\n",
       "    </tr>\n",
       "  </tbody>\n",
       "</table>\n",
       "<p>1 rows × 28 columns</p>\n",
       "</div>"
      ],
      "text/plain": [
       "   Unnamed: 0          TM_id  \\\n",
       "0           0  G5dIZp0wKy-SF   \n",
       "\n",
       "                                             TM_name               TM_artist  \\\n",
       "0  Justin Furstenfeld of Blue October (21+ Event)...  ['Justin Furstenfeld']   \n",
       "\n",
       "                  TM_venue  TM_venue_city TM_venue_state  TM_venue _lat  \\\n",
       "0  Whitewater Amphitheater  New Braunfels             TX      29.862013   \n",
       "\n",
       "   TM_venue_long               TM_date  ...    max   min    type_x primary  \\\n",
       "0     -98.156969  2021-04-24T01:00:00Z  ...  102.0  43.0  standard    True   \n",
       "\n",
       "  segment genre  subGenre                                          type_y  \\\n",
       "0   Music  Rock       Pop  {'id': 'KZAyXgnZfZ7v7nI', 'name': 'Undefined'}   \n",
       "\n",
       "                                             subType  family  \n",
       "0  {'id': 'KZFzBErXgnZfZ7v7lJ', 'name': 'Undefined'}   False  \n",
       "\n",
       "[1 rows x 28 columns]"
      ]
     },
     "execution_count": 2,
     "metadata": {},
     "output_type": "execute_result"
    }
   ],
   "source": [
    "#Read in the ticketmaster data from .csv\n",
    "df = pd.read_csv('tm_events_040121_050121')\n",
    "df.head(1)"
   ]
  },
  {
   "cell_type": "code",
   "execution_count": 4,
   "metadata": {},
   "outputs": [
    {
     "data": {
      "text/plain": [
       "(105, 28)"
      ]
     },
     "execution_count": 4,
     "metadata": {},
     "output_type": "execute_result"
    }
   ],
   "source": [
    "#Shape of the dataframe\n",
    "df.shape"
   ]
  },
  {
   "cell_type": "code",
   "execution_count": 6,
   "metadata": {},
   "outputs": [
    {
     "data": {
      "text/plain": [
       "min                      1\n",
       "subGenre                 1\n",
       "0                        1\n",
       "TM_promoter              1\n",
       "TM_venue_city            1\n",
       "TM_timezone              1\n",
       "TM_presale_date_start    1\n",
       "TM_id                    1\n",
       "genre                    1\n",
       "segment                  1\n",
       "type_x                   1\n",
       "TM_span_multiple_days    1\n",
       "subType                  1\n",
       "currency                 1\n",
       "Unnamed: 0               1\n",
       "TM_name                  1\n",
       "TM_artist                1\n",
       "type_y                   1\n",
       "primary                  1\n",
       "TM_venue_state           1\n",
       "TM_presale_date_end      1\n",
       "TM_date                  1\n",
       "max                      1\n",
       "family                   1\n",
       "TM_sale_date_start       1\n",
       "TM_venue                 1\n",
       "TM_venue _lat            1\n",
       "TM_venue_long            1\n",
       "dtype: int64"
      ]
     },
     "execution_count": 6,
     "metadata": {},
     "output_type": "execute_result"
    }
   ],
   "source": [
    "#Check all columns have unique names\n",
    "df.columns.unique().value_counts()"
   ]
  },
  {
   "cell_type": "code",
   "execution_count": 16,
   "metadata": {},
   "outputs": [
    {
     "name": "stdout",
     "output_type": "stream",
     "text": [
      "<class 'pandas.core.frame.DataFrame'>\n",
      "RangeIndex: 105 entries, 0 to 104\n",
      "Data columns (total 28 columns):\n",
      " #   Column                 Non-Null Count  Dtype  \n",
      "---  ------                 --------------  -----  \n",
      " 0   Unnamed: 0             105 non-null    int64  \n",
      " 1   TM_id                  105 non-null    object \n",
      " 2   TM_name                105 non-null    object \n",
      " 3   TM_artist              105 non-null    object \n",
      " 4   TM_venue               105 non-null    object \n",
      " 5   TM_venue_city          105 non-null    object \n",
      " 6   TM_venue_state         105 non-null    object \n",
      " 7   TM_venue _lat          105 non-null    float64\n",
      " 8   TM_venue_long          105 non-null    float64\n",
      " 9   TM_date                105 non-null    object \n",
      " 10  TM_timezone            105 non-null    object \n",
      " 11  TM_span_multiple_days  105 non-null    bool   \n",
      " 12  TM_presale_date_start  58 non-null     object \n",
      " 13  TM_presale_date_end    58 non-null     object \n",
      " 14  TM_sale_date_start     105 non-null    object \n",
      " 15  TM_promoter            105 non-null    object \n",
      " 16  0                      0 non-null      float64\n",
      " 17  currency               102 non-null    object \n",
      " 18  max                    102 non-null    float64\n",
      " 19  min                    102 non-null    float64\n",
      " 20  type_x                 102 non-null    object \n",
      " 21  primary                105 non-null    bool   \n",
      " 22  segment                105 non-null    object \n",
      " 23  genre                  105 non-null    object \n",
      " 24  subGenre               105 non-null    object \n",
      " 25  type_y                 105 non-null    object \n",
      " 26  subType                105 non-null    object \n",
      " 27  family                 105 non-null    bool   \n",
      "dtypes: bool(3), float64(5), int64(1), object(19)\n",
      "memory usage: 20.9+ KB\n"
     ]
    }
   ],
   "source": [
    "#Look at the summary info for the dataframe\n",
    "df.info()"
   ]
  },
  {
   "cell_type": "code",
   "execution_count": 15,
   "metadata": {},
   "outputs": [
    {
     "data": {
      "text/plain": [
       "Unnamed: 0                 0\n",
       "TM_id                      0\n",
       "TM_name                    0\n",
       "TM_artist                  0\n",
       "TM_venue                   0\n",
       "TM_venue_city              0\n",
       "TM_venue_state             0\n",
       "TM_venue _lat              0\n",
       "TM_venue_long              0\n",
       "TM_date                    0\n",
       "TM_timezone                0\n",
       "TM_span_multiple_days      0\n",
       "TM_presale_date_start     47\n",
       "TM_presale_date_end       47\n",
       "TM_sale_date_start         0\n",
       "TM_promoter                0\n",
       "0                        105\n",
       "currency                   3\n",
       "max                        3\n",
       "min                        3\n",
       "type_x                     3\n",
       "primary                    0\n",
       "segment                    0\n",
       "genre                      0\n",
       "subGenre                   0\n",
       "type_y                     0\n",
       "subType                    0\n",
       "family                     0\n",
       "dtype: int64"
      ]
     },
     "execution_count": 15,
     "metadata": {},
     "output_type": "execute_result"
    }
   ],
   "source": [
    "#Return count of null values for columns with nulls\n",
    "df.isnull().sum(axis = 0)"
   ]
  },
  {
   "cell_type": "markdown",
   "metadata": {},
   "source": [
    "### Initial Preparation tasks:\n",
    "- Reset index to TM_id\n",
    "- Rename columns (cut out TM where it makes sense to do so)\n",
    "- Drop columns:\n",
    "    0 - No data for any observations\n",
    "    Unnamed: 0 - Generic index (reset to TM_id)"
   ]
  },
  {
   "cell_type": "code",
   "execution_count": null,
   "metadata": {},
   "outputs": [],
   "source": []
  }
 ],
 "metadata": {
  "kernelspec": {
   "display_name": "Python 3",
   "language": "python",
   "name": "python3"
  },
  "language_info": {
   "codemirror_mode": {
    "name": "ipython",
    "version": 3
   },
   "file_extension": ".py",
   "mimetype": "text/x-python",
   "name": "python",
   "nbconvert_exporter": "python",
   "pygments_lexer": "ipython3",
   "version": "3.8.5"
  }
 },
 "nbformat": 4,
 "nbformat_minor": 4
}
