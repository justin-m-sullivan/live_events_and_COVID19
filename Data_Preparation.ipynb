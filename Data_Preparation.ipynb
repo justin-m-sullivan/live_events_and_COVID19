{
 "cells": [
  {
   "cell_type": "markdown",
   "metadata": {},
   "source": [
    "# Data Preparation"
   ]
  },
  {
   "cell_type": "code",
   "execution_count": 2,
   "metadata": {},
   "outputs": [],
   "source": [
    "import pandas as pd\n",
    "import numpy as np\n",
    "import matplotlib.pyplot as plt\n",
    "import seaborn as sns\n",
    "\n",
    "plt.rc('figure', figsize=(13, 7))\n",
    "plt.style.use('seaborn-whitegrid')\n",
    "plt.rc('font', size=16)"
   ]
  },
  {
   "cell_type": "code",
   "execution_count": 3,
   "metadata": {},
   "outputs": [
    {
     "data": {
      "text/html": [
       "<div>\n",
       "<style scoped>\n",
       "    .dataframe tbody tr th:only-of-type {\n",
       "        vertical-align: middle;\n",
       "    }\n",
       "\n",
       "    .dataframe tbody tr th {\n",
       "        vertical-align: top;\n",
       "    }\n",
       "\n",
       "    .dataframe thead th {\n",
       "        text-align: right;\n",
       "    }\n",
       "</style>\n",
       "<table border=\"1\" class=\"dataframe\">\n",
       "  <thead>\n",
       "    <tr style=\"text-align: right;\">\n",
       "      <th></th>\n",
       "      <th>Unnamed: 0</th>\n",
       "      <th>TM_id</th>\n",
       "      <th>TM_name</th>\n",
       "      <th>TM_artist</th>\n",
       "      <th>TM_venue</th>\n",
       "      <th>TM_venue_city</th>\n",
       "      <th>TM_venue_state</th>\n",
       "      <th>TM_venue _lat</th>\n",
       "      <th>TM_venue_long</th>\n",
       "      <th>TM_date</th>\n",
       "      <th>...</th>\n",
       "      <th>max</th>\n",
       "      <th>min</th>\n",
       "      <th>type_x</th>\n",
       "      <th>primary</th>\n",
       "      <th>segment</th>\n",
       "      <th>genre</th>\n",
       "      <th>subGenre</th>\n",
       "      <th>type_y</th>\n",
       "      <th>subType</th>\n",
       "      <th>family</th>\n",
       "    </tr>\n",
       "  </thead>\n",
       "  <tbody>\n",
       "    <tr>\n",
       "      <th>0</th>\n",
       "      <td>0</td>\n",
       "      <td>vvG1HZ4UM7MxxI</td>\n",
       "      <td>A Thousand Thoughts: A live documentary with t...</td>\n",
       "      <td>['Kronos Quartet']</td>\n",
       "      <td>Moore Theatre</td>\n",
       "      <td>Seattle</td>\n",
       "      <td>WA</td>\n",
       "      <td>47.653293</td>\n",
       "      <td>-122.359344</td>\n",
       "      <td>2021-09-18T02:30:00Z</td>\n",
       "      <td>...</td>\n",
       "      <td>70.0</td>\n",
       "      <td>40.0</td>\n",
       "      <td>standard</td>\n",
       "      <td>True</td>\n",
       "      <td>Arts &amp; Theatre</td>\n",
       "      <td>Music</td>\n",
       "      <td>Chamber Music</td>\n",
       "      <td>{'id': 'KZAyXgnZfZ7v7nI', 'name': 'Undefined'}</td>\n",
       "      <td>{'id': 'KZFzBErXgnZfZ7v7lJ', 'name': 'Undefined'}</td>\n",
       "      <td>False</td>\n",
       "    </tr>\n",
       "  </tbody>\n",
       "</table>\n",
       "<p>1 rows × 28 columns</p>\n",
       "</div>"
      ],
      "text/plain": [
       "   Unnamed: 0           TM_id  \\\n",
       "0           0  vvG1HZ4UM7MxxI   \n",
       "\n",
       "                                             TM_name           TM_artist  \\\n",
       "0  A Thousand Thoughts: A live documentary with t...  ['Kronos Quartet']   \n",
       "\n",
       "        TM_venue TM_venue_city TM_venue_state  TM_venue _lat  TM_venue_long  \\\n",
       "0  Moore Theatre       Seattle             WA      47.653293    -122.359344   \n",
       "\n",
       "                TM_date  ...   max   min    type_x primary         segment  \\\n",
       "0  2021-09-18T02:30:00Z  ...  70.0  40.0  standard    True  Arts & Theatre   \n",
       "\n",
       "   genre       subGenre                                          type_y  \\\n",
       "0  Music  Chamber Music  {'id': 'KZAyXgnZfZ7v7nI', 'name': 'Undefined'}   \n",
       "\n",
       "                                             subType  family  \n",
       "0  {'id': 'KZFzBErXgnZfZ7v7lJ', 'name': 'Undefined'}   False  \n",
       "\n",
       "[1 rows x 28 columns]"
      ]
     },
     "execution_count": 3,
     "metadata": {},
     "output_type": "execute_result"
    }
   ],
   "source": [
    "#Read in the ticketmaster data from .csv\n",
    "df = pd.read_csv('more_markets_tm_events_040121_123121.csv')\n",
    "df.head(1)"
   ]
  },
  {
   "cell_type": "code",
   "execution_count": 4,
   "metadata": {},
   "outputs": [
    {
     "data": {
      "text/plain": [
       "(3573, 28)"
      ]
     },
     "execution_count": 4,
     "metadata": {},
     "output_type": "execute_result"
    }
   ],
   "source": [
    "#Shape of the dataframe\n",
    "df.shape"
   ]
  },
  {
   "cell_type": "code",
   "execution_count": 5,
   "metadata": {
    "scrolled": true
   },
   "outputs": [
    {
     "data": {
      "text/plain": [
       "0                        1\n",
       "genre                    1\n",
       "TM_presale_date_start    1\n",
       "type_x                   1\n",
       "Unnamed: 0               1\n",
       "TM_venue _lat            1\n",
       "TM_promoter              1\n",
       "subType                  1\n",
       "family                   1\n",
       "primary                  1\n",
       "TM_sale_date_start       1\n",
       "max                      1\n",
       "TM_venue                 1\n",
       "TM_date                  1\n",
       "TM_timezone              1\n",
       "min                      1\n",
       "TM_presale_date_end      1\n",
       "TM_artist                1\n",
       "TM_venue_long            1\n",
       "type_y                   1\n",
       "currency                 1\n",
       "TM_span_multiple_days    1\n",
       "TM_venue_state           1\n",
       "TM_venue_city            1\n",
       "subGenre                 1\n",
       "TM_name                  1\n",
       "TM_id                    1\n",
       "segment                  1\n",
       "dtype: int64"
      ]
     },
     "execution_count": 5,
     "metadata": {},
     "output_type": "execute_result"
    }
   ],
   "source": [
    "#Check all columns have unique names\n",
    "df.columns.unique().value_counts()"
   ]
  },
  {
   "cell_type": "code",
   "execution_count": 6,
   "metadata": {
    "scrolled": true
   },
   "outputs": [
    {
     "name": "stdout",
     "output_type": "stream",
     "text": [
      "<class 'pandas.core.frame.DataFrame'>\n",
      "RangeIndex: 3573 entries, 0 to 3572\n",
      "Data columns (total 28 columns):\n",
      " #   Column                 Non-Null Count  Dtype  \n",
      "---  ------                 --------------  -----  \n",
      " 0   Unnamed: 0             3573 non-null   int64  \n",
      " 1   TM_id                  3573 non-null   object \n",
      " 2   TM_name                3573 non-null   object \n",
      " 3   TM_artist              3573 non-null   object \n",
      " 4   TM_venue               3573 non-null   object \n",
      " 5   TM_venue_city          3573 non-null   object \n",
      " 6   TM_venue_state         3573 non-null   object \n",
      " 7   TM_venue _lat          3573 non-null   float64\n",
      " 8   TM_venue_long          3573 non-null   float64\n",
      " 9   TM_date                3573 non-null   object \n",
      " 10  TM_timezone            3573 non-null   object \n",
      " 11  TM_span_multiple_days  3573 non-null   bool   \n",
      " 12  TM_presale_date_start  3573 non-null   object \n",
      " 13  TM_presale_date_end    3573 non-null   object \n",
      " 14  TM_sale_date_start     3573 non-null   object \n",
      " 15  TM_promoter            3573 non-null   object \n",
      " 16  0                      0 non-null      float64\n",
      " 17  currency               3306 non-null   object \n",
      " 18  max                    3306 non-null   float64\n",
      " 19  min                    3306 non-null   float64\n",
      " 20  type_x                 3306 non-null   object \n",
      " 21  primary                3573 non-null   bool   \n",
      " 22  segment                3573 non-null   object \n",
      " 23  genre                  3573 non-null   object \n",
      " 24  subGenre               3573 non-null   object \n",
      " 25  type_y                 3573 non-null   object \n",
      " 26  subType                3573 non-null   object \n",
      " 27  family                 3573 non-null   bool   \n",
      "dtypes: bool(3), float64(5), int64(1), object(19)\n",
      "memory usage: 708.4+ KB\n"
     ]
    }
   ],
   "source": [
    "#Look at the summary info for the dataframe\n",
    "df.info()"
   ]
  },
  {
   "cell_type": "code",
   "execution_count": 7,
   "metadata": {
    "scrolled": true
   },
   "outputs": [
    {
     "data": {
      "text/plain": [
       "Unnamed: 0                  0\n",
       "TM_id                       0\n",
       "TM_name                     0\n",
       "TM_artist                   0\n",
       "TM_venue                    0\n",
       "TM_venue_city               0\n",
       "TM_venue_state              0\n",
       "TM_venue _lat               0\n",
       "TM_venue_long               0\n",
       "TM_date                     0\n",
       "TM_timezone                 0\n",
       "TM_span_multiple_days       0\n",
       "TM_presale_date_start       0\n",
       "TM_presale_date_end         0\n",
       "TM_sale_date_start          0\n",
       "TM_promoter                 0\n",
       "0                        3573\n",
       "currency                  267\n",
       "max                       267\n",
       "min                       267\n",
       "type_x                    267\n",
       "primary                     0\n",
       "segment                     0\n",
       "genre                       0\n",
       "subGenre                    0\n",
       "type_y                      0\n",
       "subType                     0\n",
       "family                      0\n",
       "dtype: int64"
      ]
     },
     "execution_count": 7,
     "metadata": {},
     "output_type": "execute_result"
    }
   ],
   "source": [
    "#Return count of null values for columns with nulls\n",
    "df.isnull().sum(axis = 0)"
   ]
  },
  {
   "cell_type": "markdown",
   "metadata": {},
   "source": [
    "### Initial Preparation tasks:\n",
    "- Reset index to TM_id\n",
    "- Rename columns (cut out TM where it makes sense to do so)\n",
    "- Drop columns:\n",
    "    0 - No data for any observations\n",
    "    Unnamed: 0 - Generic index (reset to TM_id)"
   ]
  },
  {
   "cell_type": "code",
   "execution_count": 8,
   "metadata": {},
   "outputs": [],
   "source": [
    "df.drop(columns={'0', 'Unnamed: 0'}, inplace=True)"
   ]
  },
  {
   "cell_type": "code",
   "execution_count": 9,
   "metadata": {},
   "outputs": [
    {
     "data": {
      "text/html": [
       "<div>\n",
       "<style scoped>\n",
       "    .dataframe tbody tr th:only-of-type {\n",
       "        vertical-align: middle;\n",
       "    }\n",
       "\n",
       "    .dataframe tbody tr th {\n",
       "        vertical-align: top;\n",
       "    }\n",
       "\n",
       "    .dataframe thead th {\n",
       "        text-align: right;\n",
       "    }\n",
       "</style>\n",
       "<table border=\"1\" class=\"dataframe\">\n",
       "  <thead>\n",
       "    <tr style=\"text-align: right;\">\n",
       "      <th></th>\n",
       "      <th>TM_id</th>\n",
       "      <th>TM_name</th>\n",
       "      <th>TM_artist</th>\n",
       "      <th>TM_venue</th>\n",
       "      <th>TM_venue_city</th>\n",
       "      <th>TM_venue_state</th>\n",
       "      <th>TM_venue _lat</th>\n",
       "      <th>TM_venue_long</th>\n",
       "      <th>TM_date</th>\n",
       "      <th>TM_timezone</th>\n",
       "      <th>...</th>\n",
       "      <th>max</th>\n",
       "      <th>min</th>\n",
       "      <th>type_x</th>\n",
       "      <th>primary</th>\n",
       "      <th>segment</th>\n",
       "      <th>genre</th>\n",
       "      <th>subGenre</th>\n",
       "      <th>type_y</th>\n",
       "      <th>subType</th>\n",
       "      <th>family</th>\n",
       "    </tr>\n",
       "  </thead>\n",
       "  <tbody>\n",
       "    <tr>\n",
       "      <th>0</th>\n",
       "      <td>vvG1HZ4UM7MxxI</td>\n",
       "      <td>A Thousand Thoughts: A live documentary with t...</td>\n",
       "      <td>['Kronos Quartet']</td>\n",
       "      <td>Moore Theatre</td>\n",
       "      <td>Seattle</td>\n",
       "      <td>WA</td>\n",
       "      <td>47.653293</td>\n",
       "      <td>-122.359344</td>\n",
       "      <td>2021-09-18T02:30:00Z</td>\n",
       "      <td>America/Los_Angeles</td>\n",
       "      <td>...</td>\n",
       "      <td>70.00</td>\n",
       "      <td>40.00</td>\n",
       "      <td>standard</td>\n",
       "      <td>True</td>\n",
       "      <td>Arts &amp; Theatre</td>\n",
       "      <td>Music</td>\n",
       "      <td>Chamber Music</td>\n",
       "      <td>{'id': 'KZAyXgnZfZ7v7nI', 'name': 'Undefined'}</td>\n",
       "      <td>{'id': 'KZFzBErXgnZfZ7v7lJ', 'name': 'Undefined'}</td>\n",
       "      <td>False</td>\n",
       "    </tr>\n",
       "    <tr>\n",
       "      <th>1</th>\n",
       "      <td>vvG1HZ4z2Nhfmw</td>\n",
       "      <td>Def Leppard/Mötley Crüe/Poison/Joan Jett and t...</td>\n",
       "      <td>['Def Leppard', 'Mötley Crüe', 'Poison', 'Joan...</td>\n",
       "      <td>T-Mobile Park</td>\n",
       "      <td>Seattle</td>\n",
       "      <td>WA</td>\n",
       "      <td>47.590333</td>\n",
       "      <td>-122.332850</td>\n",
       "      <td>2021-09-07T23:30:00Z</td>\n",
       "      <td>America/Los_Angeles</td>\n",
       "      <td>...</td>\n",
       "      <td>750.00</td>\n",
       "      <td>69.50</td>\n",
       "      <td>standard</td>\n",
       "      <td>True</td>\n",
       "      <td>Music</td>\n",
       "      <td>Rock</td>\n",
       "      <td>Pop</td>\n",
       "      <td>{'id': 'KZAyXgnZfZ7v7nI', 'name': 'Undefined'}</td>\n",
       "      <td>{'id': 'KZFzBErXgnZfZ7v7lJ', 'name': 'Undefined'}</td>\n",
       "      <td>False</td>\n",
       "    </tr>\n",
       "    <tr>\n",
       "      <th>2</th>\n",
       "      <td>vvG1HZ4wKgz0ln</td>\n",
       "      <td>The Hella Mega Tour-Green Day/Fall Out Boy/Weezer</td>\n",
       "      <td>['Green Day', 'Fall Out Boy', 'Weezer', 'The I...</td>\n",
       "      <td>T-Mobile Park</td>\n",
       "      <td>Seattle</td>\n",
       "      <td>WA</td>\n",
       "      <td>47.590333</td>\n",
       "      <td>-122.332850</td>\n",
       "      <td>2021-07-15T00:30:00Z</td>\n",
       "      <td>America/Los_Angeles</td>\n",
       "      <td>...</td>\n",
       "      <td>189.50</td>\n",
       "      <td>39.50</td>\n",
       "      <td>standard</td>\n",
       "      <td>True</td>\n",
       "      <td>Music</td>\n",
       "      <td>Rock</td>\n",
       "      <td>Alternative Rock</td>\n",
       "      <td>{'id': 'KZAyXgnZfZ7v7nI', 'name': 'Undefined'}</td>\n",
       "      <td>{'id': 'KZFzBErXgnZfZ7v7lJ', 'name': 'Undefined'}</td>\n",
       "      <td>False</td>\n",
       "    </tr>\n",
       "    <tr>\n",
       "      <th>3</th>\n",
       "      <td>vvG1HZpd6SnMVq</td>\n",
       "      <td>Chris Stapleton's All-American Road Show</td>\n",
       "      <td>['Chris Stapleton']</td>\n",
       "      <td>Gorge Amphitheatre</td>\n",
       "      <td>George</td>\n",
       "      <td>WA</td>\n",
       "      <td>47.095947</td>\n",
       "      <td>-119.982652</td>\n",
       "      <td>2021-06-13T02:00:00Z</td>\n",
       "      <td>America/Los_Angeles</td>\n",
       "      <td>...</td>\n",
       "      <td>99.75</td>\n",
       "      <td>39.75</td>\n",
       "      <td>standard</td>\n",
       "      <td>True</td>\n",
       "      <td>Music</td>\n",
       "      <td>Country</td>\n",
       "      <td>Country</td>\n",
       "      <td>{'id': 'KZAyXgnZfZ7v7nI', 'name': 'Undefined'}</td>\n",
       "      <td>{'id': 'KZFzBErXgnZfZ7v7lJ', 'name': 'Undefined'}</td>\n",
       "      <td>False</td>\n",
       "    </tr>\n",
       "    <tr>\n",
       "      <th>4</th>\n",
       "      <td>vvG1HZ4UiS1gC7</td>\n",
       "      <td>Harry Styles: Love On Tour</td>\n",
       "      <td>['Harry Styles', 'Jenny Lewis']</td>\n",
       "      <td>Tacoma Dome</td>\n",
       "      <td>Tacoma</td>\n",
       "      <td>WA</td>\n",
       "      <td>47.236340</td>\n",
       "      <td>-122.426834</td>\n",
       "      <td>2021-08-15T03:00:00Z</td>\n",
       "      <td>America/Los_Angeles</td>\n",
       "      <td>...</td>\n",
       "      <td>169.50</td>\n",
       "      <td>39.50</td>\n",
       "      <td>standard</td>\n",
       "      <td>True</td>\n",
       "      <td>Music</td>\n",
       "      <td>Pop</td>\n",
       "      <td>Pop</td>\n",
       "      <td>{'id': 'KZAyXgnZfZ7v7nI', 'name': 'Undefined'}</td>\n",
       "      <td>{'id': 'KZFzBErXgnZfZ7v7lJ', 'name': 'Undefined'}</td>\n",
       "      <td>False</td>\n",
       "    </tr>\n",
       "  </tbody>\n",
       "</table>\n",
       "<p>5 rows × 26 columns</p>\n",
       "</div>"
      ],
      "text/plain": [
       "            TM_id                                            TM_name  \\\n",
       "0  vvG1HZ4UM7MxxI  A Thousand Thoughts: A live documentary with t...   \n",
       "1  vvG1HZ4z2Nhfmw  Def Leppard/Mötley Crüe/Poison/Joan Jett and t...   \n",
       "2  vvG1HZ4wKgz0ln  The Hella Mega Tour-Green Day/Fall Out Boy/Weezer   \n",
       "3  vvG1HZpd6SnMVq           Chris Stapleton's All-American Road Show   \n",
       "4  vvG1HZ4UiS1gC7                         Harry Styles: Love On Tour   \n",
       "\n",
       "                                           TM_artist            TM_venue  \\\n",
       "0                                 ['Kronos Quartet']       Moore Theatre   \n",
       "1  ['Def Leppard', 'Mötley Crüe', 'Poison', 'Joan...       T-Mobile Park   \n",
       "2  ['Green Day', 'Fall Out Boy', 'Weezer', 'The I...       T-Mobile Park   \n",
       "3                                ['Chris Stapleton']  Gorge Amphitheatre   \n",
       "4                    ['Harry Styles', 'Jenny Lewis']         Tacoma Dome   \n",
       "\n",
       "  TM_venue_city TM_venue_state  TM_venue _lat  TM_venue_long  \\\n",
       "0       Seattle             WA      47.653293    -122.359344   \n",
       "1       Seattle             WA      47.590333    -122.332850   \n",
       "2       Seattle             WA      47.590333    -122.332850   \n",
       "3        George             WA      47.095947    -119.982652   \n",
       "4        Tacoma             WA      47.236340    -122.426834   \n",
       "\n",
       "                TM_date          TM_timezone  ...     max    min    type_x  \\\n",
       "0  2021-09-18T02:30:00Z  America/Los_Angeles  ...   70.00  40.00  standard   \n",
       "1  2021-09-07T23:30:00Z  America/Los_Angeles  ...  750.00  69.50  standard   \n",
       "2  2021-07-15T00:30:00Z  America/Los_Angeles  ...  189.50  39.50  standard   \n",
       "3  2021-06-13T02:00:00Z  America/Los_Angeles  ...   99.75  39.75  standard   \n",
       "4  2021-08-15T03:00:00Z  America/Los_Angeles  ...  169.50  39.50  standard   \n",
       "\n",
       "  primary         segment    genre          subGenre  \\\n",
       "0    True  Arts & Theatre    Music     Chamber Music   \n",
       "1    True           Music     Rock               Pop   \n",
       "2    True           Music     Rock  Alternative Rock   \n",
       "3    True           Music  Country           Country   \n",
       "4    True           Music      Pop               Pop   \n",
       "\n",
       "                                           type_y  \\\n",
       "0  {'id': 'KZAyXgnZfZ7v7nI', 'name': 'Undefined'}   \n",
       "1  {'id': 'KZAyXgnZfZ7v7nI', 'name': 'Undefined'}   \n",
       "2  {'id': 'KZAyXgnZfZ7v7nI', 'name': 'Undefined'}   \n",
       "3  {'id': 'KZAyXgnZfZ7v7nI', 'name': 'Undefined'}   \n",
       "4  {'id': 'KZAyXgnZfZ7v7nI', 'name': 'Undefined'}   \n",
       "\n",
       "                                             subType  family  \n",
       "0  {'id': 'KZFzBErXgnZfZ7v7lJ', 'name': 'Undefined'}   False  \n",
       "1  {'id': 'KZFzBErXgnZfZ7v7lJ', 'name': 'Undefined'}   False  \n",
       "2  {'id': 'KZFzBErXgnZfZ7v7lJ', 'name': 'Undefined'}   False  \n",
       "3  {'id': 'KZFzBErXgnZfZ7v7lJ', 'name': 'Undefined'}   False  \n",
       "4  {'id': 'KZFzBErXgnZfZ7v7lJ', 'name': 'Undefined'}   False  \n",
       "\n",
       "[5 rows x 26 columns]"
      ]
     },
     "execution_count": 9,
     "metadata": {},
     "output_type": "execute_result"
    }
   ],
   "source": [
    "df.head()"
   ]
  },
  {
   "cell_type": "code",
   "execution_count": 10,
   "metadata": {},
   "outputs": [
    {
     "name": "stdout",
     "output_type": "stream",
     "text": [
      "<class 'pandas.core.frame.DataFrame'>\n",
      "RangeIndex: 3573 entries, 0 to 3572\n",
      "Data columns (total 26 columns):\n",
      " #   Column                 Non-Null Count  Dtype  \n",
      "---  ------                 --------------  -----  \n",
      " 0   TM_id                  3573 non-null   object \n",
      " 1   TM_name                3573 non-null   object \n",
      " 2   TM_artist              3573 non-null   object \n",
      " 3   TM_venue               3573 non-null   object \n",
      " 4   TM_venue_city          3573 non-null   object \n",
      " 5   TM_venue_state         3573 non-null   object \n",
      " 6   TM_venue _lat          3573 non-null   float64\n",
      " 7   TM_venue_long          3573 non-null   float64\n",
      " 8   TM_date                3573 non-null   object \n",
      " 9   TM_timezone            3573 non-null   object \n",
      " 10  TM_span_multiple_days  3573 non-null   bool   \n",
      " 11  TM_presale_date_start  3573 non-null   object \n",
      " 12  TM_presale_date_end    3573 non-null   object \n",
      " 13  TM_sale_date_start     3573 non-null   object \n",
      " 14  TM_promoter            3573 non-null   object \n",
      " 15  currency               3306 non-null   object \n",
      " 16  max                    3306 non-null   float64\n",
      " 17  min                    3306 non-null   float64\n",
      " 18  type_x                 3306 non-null   object \n",
      " 19  primary                3573 non-null   bool   \n",
      " 20  segment                3573 non-null   object \n",
      " 21  genre                  3573 non-null   object \n",
      " 22  subGenre               3573 non-null   object \n",
      " 23  type_y                 3573 non-null   object \n",
      " 24  subType                3573 non-null   object \n",
      " 25  family                 3573 non-null   bool   \n",
      "dtypes: bool(3), float64(4), object(19)\n",
      "memory usage: 652.6+ KB\n"
     ]
    }
   ],
   "source": [
    "df.info()"
   ]
  },
  {
   "cell_type": "code",
   "execution_count": 11,
   "metadata": {},
   "outputs": [],
   "source": [
    "df.TM_date = df.TM_date.str.replace('T',' ')"
   ]
  },
  {
   "cell_type": "code",
   "execution_count": 12,
   "metadata": {},
   "outputs": [],
   "source": [
    "df.TM_date = df.TM_date.str.replace('Z','')"
   ]
  },
  {
   "cell_type": "code",
   "execution_count": 13,
   "metadata": {},
   "outputs": [],
   "source": [
    "df.drop(df[df['TM_date'] == '{}'].index, inplace = True)"
   ]
  },
  {
   "cell_type": "code",
   "execution_count": 14,
   "metadata": {},
   "outputs": [],
   "source": [
    "#convert timestame to datetime dtype\n",
    "df.TM_date= pd.to_datetime(df.TM_date, format='%Y-%m-%d %H:%M:%S') "
   ]
  },
  {
   "cell_type": "code",
   "execution_count": 15,
   "metadata": {},
   "outputs": [
    {
     "name": "stdout",
     "output_type": "stream",
     "text": [
      "<class 'pandas.core.frame.DataFrame'>\n",
      "Int64Index: 3505 entries, 0 to 3572\n",
      "Data columns (total 26 columns):\n",
      " #   Column                 Non-Null Count  Dtype         \n",
      "---  ------                 --------------  -----         \n",
      " 0   TM_id                  3505 non-null   object        \n",
      " 1   TM_name                3505 non-null   object        \n",
      " 2   TM_artist              3505 non-null   object        \n",
      " 3   TM_venue               3505 non-null   object        \n",
      " 4   TM_venue_city          3505 non-null   object        \n",
      " 5   TM_venue_state         3505 non-null   object        \n",
      " 6   TM_venue _lat          3505 non-null   float64       \n",
      " 7   TM_venue_long          3505 non-null   float64       \n",
      " 8   TM_date                3505 non-null   datetime64[ns]\n",
      " 9   TM_timezone            3505 non-null   object        \n",
      " 10  TM_span_multiple_days  3505 non-null   bool          \n",
      " 11  TM_presale_date_start  3505 non-null   object        \n",
      " 12  TM_presale_date_end    3505 non-null   object        \n",
      " 13  TM_sale_date_start     3505 non-null   object        \n",
      " 14  TM_promoter            3505 non-null   object        \n",
      " 15  currency               3291 non-null   object        \n",
      " 16  max                    3291 non-null   float64       \n",
      " 17  min                    3291 non-null   float64       \n",
      " 18  type_x                 3291 non-null   object        \n",
      " 19  primary                3505 non-null   bool          \n",
      " 20  segment                3505 non-null   object        \n",
      " 21  genre                  3505 non-null   object        \n",
      " 22  subGenre               3505 non-null   object        \n",
      " 23  type_y                 3505 non-null   object        \n",
      " 24  subType                3505 non-null   object        \n",
      " 25  family                 3505 non-null   bool          \n",
      "dtypes: bool(3), datetime64[ns](1), float64(4), object(18)\n",
      "memory usage: 667.5+ KB\n"
     ]
    }
   ],
   "source": [
    "df.info()"
   ]
  },
  {
   "cell_type": "code",
   "execution_count": 16,
   "metadata": {},
   "outputs": [
    {
     "data": {
      "text/html": [
       "<div>\n",
       "<style scoped>\n",
       "    .dataframe tbody tr th:only-of-type {\n",
       "        vertical-align: middle;\n",
       "    }\n",
       "\n",
       "    .dataframe tbody tr th {\n",
       "        vertical-align: top;\n",
       "    }\n",
       "\n",
       "    .dataframe thead th {\n",
       "        text-align: right;\n",
       "    }\n",
       "</style>\n",
       "<table border=\"1\" class=\"dataframe\">\n",
       "  <thead>\n",
       "    <tr style=\"text-align: right;\">\n",
       "      <th></th>\n",
       "      <th>TM_id</th>\n",
       "      <th>TM_name</th>\n",
       "      <th>TM_artist</th>\n",
       "      <th>TM_venue</th>\n",
       "      <th>TM_venue_city</th>\n",
       "      <th>TM_venue_state</th>\n",
       "      <th>TM_venue _lat</th>\n",
       "      <th>TM_venue_long</th>\n",
       "      <th>TM_date</th>\n",
       "      <th>TM_timezone</th>\n",
       "      <th>...</th>\n",
       "      <th>max</th>\n",
       "      <th>min</th>\n",
       "      <th>type_x</th>\n",
       "      <th>primary</th>\n",
       "      <th>segment</th>\n",
       "      <th>genre</th>\n",
       "      <th>subGenre</th>\n",
       "      <th>type_y</th>\n",
       "      <th>subType</th>\n",
       "      <th>family</th>\n",
       "    </tr>\n",
       "  </thead>\n",
       "  <tbody>\n",
       "    <tr>\n",
       "      <th>0</th>\n",
       "      <td>vvG1HZ4UM7MxxI</td>\n",
       "      <td>A Thousand Thoughts: A live documentary with t...</td>\n",
       "      <td>['Kronos Quartet']</td>\n",
       "      <td>Moore Theatre</td>\n",
       "      <td>Seattle</td>\n",
       "      <td>WA</td>\n",
       "      <td>47.653293</td>\n",
       "      <td>-122.359344</td>\n",
       "      <td>2021-09-18 02:30:00</td>\n",
       "      <td>America/Los_Angeles</td>\n",
       "      <td>...</td>\n",
       "      <td>70.00</td>\n",
       "      <td>40.00</td>\n",
       "      <td>standard</td>\n",
       "      <td>True</td>\n",
       "      <td>Arts &amp; Theatre</td>\n",
       "      <td>Music</td>\n",
       "      <td>Chamber Music</td>\n",
       "      <td>{'id': 'KZAyXgnZfZ7v7nI', 'name': 'Undefined'}</td>\n",
       "      <td>{'id': 'KZFzBErXgnZfZ7v7lJ', 'name': 'Undefined'}</td>\n",
       "      <td>False</td>\n",
       "    </tr>\n",
       "    <tr>\n",
       "      <th>1</th>\n",
       "      <td>vvG1HZ4z2Nhfmw</td>\n",
       "      <td>Def Leppard/Mötley Crüe/Poison/Joan Jett and t...</td>\n",
       "      <td>['Def Leppard', 'Mötley Crüe', 'Poison', 'Joan...</td>\n",
       "      <td>T-Mobile Park</td>\n",
       "      <td>Seattle</td>\n",
       "      <td>WA</td>\n",
       "      <td>47.590333</td>\n",
       "      <td>-122.332850</td>\n",
       "      <td>2021-09-07 23:30:00</td>\n",
       "      <td>America/Los_Angeles</td>\n",
       "      <td>...</td>\n",
       "      <td>750.00</td>\n",
       "      <td>69.50</td>\n",
       "      <td>standard</td>\n",
       "      <td>True</td>\n",
       "      <td>Music</td>\n",
       "      <td>Rock</td>\n",
       "      <td>Pop</td>\n",
       "      <td>{'id': 'KZAyXgnZfZ7v7nI', 'name': 'Undefined'}</td>\n",
       "      <td>{'id': 'KZFzBErXgnZfZ7v7lJ', 'name': 'Undefined'}</td>\n",
       "      <td>False</td>\n",
       "    </tr>\n",
       "    <tr>\n",
       "      <th>2</th>\n",
       "      <td>vvG1HZ4wKgz0ln</td>\n",
       "      <td>The Hella Mega Tour-Green Day/Fall Out Boy/Weezer</td>\n",
       "      <td>['Green Day', 'Fall Out Boy', 'Weezer', 'The I...</td>\n",
       "      <td>T-Mobile Park</td>\n",
       "      <td>Seattle</td>\n",
       "      <td>WA</td>\n",
       "      <td>47.590333</td>\n",
       "      <td>-122.332850</td>\n",
       "      <td>2021-07-15 00:30:00</td>\n",
       "      <td>America/Los_Angeles</td>\n",
       "      <td>...</td>\n",
       "      <td>189.50</td>\n",
       "      <td>39.50</td>\n",
       "      <td>standard</td>\n",
       "      <td>True</td>\n",
       "      <td>Music</td>\n",
       "      <td>Rock</td>\n",
       "      <td>Alternative Rock</td>\n",
       "      <td>{'id': 'KZAyXgnZfZ7v7nI', 'name': 'Undefined'}</td>\n",
       "      <td>{'id': 'KZFzBErXgnZfZ7v7lJ', 'name': 'Undefined'}</td>\n",
       "      <td>False</td>\n",
       "    </tr>\n",
       "    <tr>\n",
       "      <th>3</th>\n",
       "      <td>vvG1HZpd6SnMVq</td>\n",
       "      <td>Chris Stapleton's All-American Road Show</td>\n",
       "      <td>['Chris Stapleton']</td>\n",
       "      <td>Gorge Amphitheatre</td>\n",
       "      <td>George</td>\n",
       "      <td>WA</td>\n",
       "      <td>47.095947</td>\n",
       "      <td>-119.982652</td>\n",
       "      <td>2021-06-13 02:00:00</td>\n",
       "      <td>America/Los_Angeles</td>\n",
       "      <td>...</td>\n",
       "      <td>99.75</td>\n",
       "      <td>39.75</td>\n",
       "      <td>standard</td>\n",
       "      <td>True</td>\n",
       "      <td>Music</td>\n",
       "      <td>Country</td>\n",
       "      <td>Country</td>\n",
       "      <td>{'id': 'KZAyXgnZfZ7v7nI', 'name': 'Undefined'}</td>\n",
       "      <td>{'id': 'KZFzBErXgnZfZ7v7lJ', 'name': 'Undefined'}</td>\n",
       "      <td>False</td>\n",
       "    </tr>\n",
       "    <tr>\n",
       "      <th>4</th>\n",
       "      <td>vvG1HZ4UiS1gC7</td>\n",
       "      <td>Harry Styles: Love On Tour</td>\n",
       "      <td>['Harry Styles', 'Jenny Lewis']</td>\n",
       "      <td>Tacoma Dome</td>\n",
       "      <td>Tacoma</td>\n",
       "      <td>WA</td>\n",
       "      <td>47.236340</td>\n",
       "      <td>-122.426834</td>\n",
       "      <td>2021-08-15 03:00:00</td>\n",
       "      <td>America/Los_Angeles</td>\n",
       "      <td>...</td>\n",
       "      <td>169.50</td>\n",
       "      <td>39.50</td>\n",
       "      <td>standard</td>\n",
       "      <td>True</td>\n",
       "      <td>Music</td>\n",
       "      <td>Pop</td>\n",
       "      <td>Pop</td>\n",
       "      <td>{'id': 'KZAyXgnZfZ7v7nI', 'name': 'Undefined'}</td>\n",
       "      <td>{'id': 'KZFzBErXgnZfZ7v7lJ', 'name': 'Undefined'}</td>\n",
       "      <td>False</td>\n",
       "    </tr>\n",
       "  </tbody>\n",
       "</table>\n",
       "<p>5 rows × 26 columns</p>\n",
       "</div>"
      ],
      "text/plain": [
       "            TM_id                                            TM_name  \\\n",
       "0  vvG1HZ4UM7MxxI  A Thousand Thoughts: A live documentary with t...   \n",
       "1  vvG1HZ4z2Nhfmw  Def Leppard/Mötley Crüe/Poison/Joan Jett and t...   \n",
       "2  vvG1HZ4wKgz0ln  The Hella Mega Tour-Green Day/Fall Out Boy/Weezer   \n",
       "3  vvG1HZpd6SnMVq           Chris Stapleton's All-American Road Show   \n",
       "4  vvG1HZ4UiS1gC7                         Harry Styles: Love On Tour   \n",
       "\n",
       "                                           TM_artist            TM_venue  \\\n",
       "0                                 ['Kronos Quartet']       Moore Theatre   \n",
       "1  ['Def Leppard', 'Mötley Crüe', 'Poison', 'Joan...       T-Mobile Park   \n",
       "2  ['Green Day', 'Fall Out Boy', 'Weezer', 'The I...       T-Mobile Park   \n",
       "3                                ['Chris Stapleton']  Gorge Amphitheatre   \n",
       "4                    ['Harry Styles', 'Jenny Lewis']         Tacoma Dome   \n",
       "\n",
       "  TM_venue_city TM_venue_state  TM_venue _lat  TM_venue_long  \\\n",
       "0       Seattle             WA      47.653293    -122.359344   \n",
       "1       Seattle             WA      47.590333    -122.332850   \n",
       "2       Seattle             WA      47.590333    -122.332850   \n",
       "3        George             WA      47.095947    -119.982652   \n",
       "4        Tacoma             WA      47.236340    -122.426834   \n",
       "\n",
       "              TM_date          TM_timezone  ...     max    min    type_x  \\\n",
       "0 2021-09-18 02:30:00  America/Los_Angeles  ...   70.00  40.00  standard   \n",
       "1 2021-09-07 23:30:00  America/Los_Angeles  ...  750.00  69.50  standard   \n",
       "2 2021-07-15 00:30:00  America/Los_Angeles  ...  189.50  39.50  standard   \n",
       "3 2021-06-13 02:00:00  America/Los_Angeles  ...   99.75  39.75  standard   \n",
       "4 2021-08-15 03:00:00  America/Los_Angeles  ...  169.50  39.50  standard   \n",
       "\n",
       "  primary         segment    genre          subGenre  \\\n",
       "0    True  Arts & Theatre    Music     Chamber Music   \n",
       "1    True           Music     Rock               Pop   \n",
       "2    True           Music     Rock  Alternative Rock   \n",
       "3    True           Music  Country           Country   \n",
       "4    True           Music      Pop               Pop   \n",
       "\n",
       "                                           type_y  \\\n",
       "0  {'id': 'KZAyXgnZfZ7v7nI', 'name': 'Undefined'}   \n",
       "1  {'id': 'KZAyXgnZfZ7v7nI', 'name': 'Undefined'}   \n",
       "2  {'id': 'KZAyXgnZfZ7v7nI', 'name': 'Undefined'}   \n",
       "3  {'id': 'KZAyXgnZfZ7v7nI', 'name': 'Undefined'}   \n",
       "4  {'id': 'KZAyXgnZfZ7v7nI', 'name': 'Undefined'}   \n",
       "\n",
       "                                             subType  family  \n",
       "0  {'id': 'KZFzBErXgnZfZ7v7lJ', 'name': 'Undefined'}   False  \n",
       "1  {'id': 'KZFzBErXgnZfZ7v7lJ', 'name': 'Undefined'}   False  \n",
       "2  {'id': 'KZFzBErXgnZfZ7v7lJ', 'name': 'Undefined'}   False  \n",
       "3  {'id': 'KZFzBErXgnZfZ7v7lJ', 'name': 'Undefined'}   False  \n",
       "4  {'id': 'KZFzBErXgnZfZ7v7lJ', 'name': 'Undefined'}   False  \n",
       "\n",
       "[5 rows x 26 columns]"
      ]
     },
     "execution_count": 16,
     "metadata": {},
     "output_type": "execute_result"
    }
   ],
   "source": [
    "df.head()"
   ]
  },
  {
   "cell_type": "code",
   "execution_count": 17,
   "metadata": {},
   "outputs": [
    {
     "data": {
      "text/plain": [
       "0      2021-09-18 02:30:00\n",
       "1      2021-09-07 23:30:00\n",
       "2      2021-07-15 00:30:00\n",
       "3      2021-06-13 02:00:00\n",
       "4      2021-08-15 03:00:00\n",
       "               ...        \n",
       "3568   2022-01-02 19:00:00\n",
       "3569   2022-03-31 23:30:00\n",
       "3570   2022-02-19 01:00:00\n",
       "3571   2022-03-13 23:00:00\n",
       "3572   2022-04-24 23:00:00\n",
       "Name: TM_date, Length: 3505, dtype: datetime64[ns]"
      ]
     },
     "execution_count": 17,
     "metadata": {},
     "output_type": "execute_result"
    }
   ],
   "source": [
    "df.TM_date"
   ]
  },
  {
   "cell_type": "code",
   "execution_count": 18,
   "metadata": {},
   "outputs": [
    {
     "data": {
      "text/plain": [
       "1390   2021-08-22 00:30:00\n",
       "1990   2021-12-09 00:30:00\n",
       "551    2021-11-14 04:00:00\n",
       "3048   2021-05-01 20:30:00\n",
       "3229   2022-06-03 00:30:00\n",
       "589    2021-05-09 03:00:00\n",
       "1420   2021-08-21 01:30:00\n",
       "1914   2021-07-27 23:30:00\n",
       "436    2021-09-05 03:00:00\n",
       "85     2021-05-16 02:30:00\n",
       "3338   2022-11-03 23:00:00\n",
       "2801   2021-09-29 00:00:00\n",
       "2023   2021-05-16 00:00:00\n",
       "3535   2022-04-23 23:30:00\n",
       "695    2021-04-14 04:30:00\n",
       "892    2021-07-21 04:30:00\n",
       "2052   2021-10-03 00:00:00\n",
       "2175   2021-09-09 00:00:00\n",
       "2946   2021-05-01 01:00:00\n",
       "2358   2021-07-29 23:00:00\n",
       "Name: TM_date, dtype: datetime64[ns]"
      ]
     },
     "execution_count": 18,
     "metadata": {},
     "output_type": "execute_result"
    }
   ],
   "source": [
    "df.TM_date.sample(20)"
   ]
  },
  {
   "cell_type": "code",
   "execution_count": 19,
   "metadata": {},
   "outputs": [
    {
     "data": {
      "text/plain": [
       "(3505, 26)"
      ]
     },
     "execution_count": 19,
     "metadata": {},
     "output_type": "execute_result"
    }
   ],
   "source": [
    "df.shape"
   ]
  },
  {
   "cell_type": "code",
   "execution_count": 20,
   "metadata": {},
   "outputs": [
    {
     "data": {
      "text/plain": [
       "2117"
      ]
     },
     "execution_count": 20,
     "metadata": {},
     "output_type": "execute_result"
    }
   ],
   "source": [
    "#Check if there are any duplicate dates and times\n",
    "df.TM_date.nunique()"
   ]
  },
  {
   "cell_type": "code",
   "execution_count": 21,
   "metadata": {},
   "outputs": [
    {
     "data": {
      "text/plain": [
       "3505"
      ]
     },
     "execution_count": 21,
     "metadata": {},
     "output_type": "execute_result"
    }
   ],
   "source": [
    "#Check if all TM_ids are unique\n",
    "df.TM_id.nunique()"
   ]
  },
  {
   "cell_type": "code",
   "execution_count": 22,
   "metadata": {},
   "outputs": [
    {
     "data": {
      "text/plain": [
       "Index(['TM_id', 'TM_name', 'TM_artist', 'TM_venue', 'TM_venue_city',\n",
       "       'TM_venue_state', 'TM_venue _lat', 'TM_venue_long', 'TM_date',\n",
       "       'TM_timezone', 'TM_span_multiple_days', 'TM_presale_date_start',\n",
       "       'TM_presale_date_end', 'TM_sale_date_start', 'TM_promoter', 'currency',\n",
       "       'max', 'min', 'type_x', 'primary', 'segment', 'genre', 'subGenre',\n",
       "       'type_y', 'subType', 'family'],\n",
       "      dtype='object')"
      ]
     },
     "execution_count": 22,
     "metadata": {},
     "output_type": "execute_result"
    }
   ],
   "source": [
    "df.columns"
   ]
  },
  {
   "cell_type": "code",
   "execution_count": 23,
   "metadata": {},
   "outputs": [],
   "source": [
    "#drop columns for type_y and subtype\n",
    "df.drop(columns={'type_y', 'subType'}, inplace=True)"
   ]
  },
  {
   "cell_type": "code",
   "execution_count": 24,
   "metadata": {},
   "outputs": [],
   "source": [
    "df.drop(columns={'TM_presale_date_start',\n",
    "       'TM_presale_date_end', 'TM_sale_date_start','TM_timezone'}, inplace=True)"
   ]
  },
  {
   "cell_type": "code",
   "execution_count": 25,
   "metadata": {},
   "outputs": [
    {
     "data": {
      "text/html": [
       "<div>\n",
       "<style scoped>\n",
       "    .dataframe tbody tr th:only-of-type {\n",
       "        vertical-align: middle;\n",
       "    }\n",
       "\n",
       "    .dataframe tbody tr th {\n",
       "        vertical-align: top;\n",
       "    }\n",
       "\n",
       "    .dataframe thead th {\n",
       "        text-align: right;\n",
       "    }\n",
       "</style>\n",
       "<table border=\"1\" class=\"dataframe\">\n",
       "  <thead>\n",
       "    <tr style=\"text-align: right;\">\n",
       "      <th></th>\n",
       "      <th>TM_id</th>\n",
       "      <th>TM_name</th>\n",
       "      <th>TM_artist</th>\n",
       "      <th>TM_venue</th>\n",
       "      <th>TM_venue_city</th>\n",
       "      <th>TM_venue_state</th>\n",
       "      <th>TM_venue _lat</th>\n",
       "      <th>TM_venue_long</th>\n",
       "      <th>TM_date</th>\n",
       "      <th>TM_span_multiple_days</th>\n",
       "      <th>TM_promoter</th>\n",
       "      <th>currency</th>\n",
       "      <th>max</th>\n",
       "      <th>min</th>\n",
       "      <th>type_x</th>\n",
       "      <th>primary</th>\n",
       "      <th>segment</th>\n",
       "      <th>genre</th>\n",
       "      <th>subGenre</th>\n",
       "      <th>family</th>\n",
       "    </tr>\n",
       "  </thead>\n",
       "  <tbody>\n",
       "    <tr>\n",
       "      <th>0</th>\n",
       "      <td>vvG1HZ4UM7MxxI</td>\n",
       "      <td>A Thousand Thoughts: A live documentary with t...</td>\n",
       "      <td>['Kronos Quartet']</td>\n",
       "      <td>Moore Theatre</td>\n",
       "      <td>Seattle</td>\n",
       "      <td>WA</td>\n",
       "      <td>47.653293</td>\n",
       "      <td>-122.359344</td>\n",
       "      <td>2021-09-18 02:30:00</td>\n",
       "      <td>False</td>\n",
       "      <td>PROMOTED BY VENUE</td>\n",
       "      <td>USD</td>\n",
       "      <td>70.00</td>\n",
       "      <td>40.00</td>\n",
       "      <td>standard</td>\n",
       "      <td>True</td>\n",
       "      <td>Arts &amp; Theatre</td>\n",
       "      <td>Music</td>\n",
       "      <td>Chamber Music</td>\n",
       "      <td>False</td>\n",
       "    </tr>\n",
       "    <tr>\n",
       "      <th>1</th>\n",
       "      <td>vvG1HZ4z2Nhfmw</td>\n",
       "      <td>Def Leppard/Mötley Crüe/Poison/Joan Jett and t...</td>\n",
       "      <td>['Def Leppard', 'Mötley Crüe', 'Poison', 'Joan...</td>\n",
       "      <td>T-Mobile Park</td>\n",
       "      <td>Seattle</td>\n",
       "      <td>WA</td>\n",
       "      <td>47.590333</td>\n",
       "      <td>-122.332850</td>\n",
       "      <td>2021-09-07 23:30:00</td>\n",
       "      <td>False</td>\n",
       "      <td>LIVE NATION MUSIC</td>\n",
       "      <td>USD</td>\n",
       "      <td>750.00</td>\n",
       "      <td>69.50</td>\n",
       "      <td>standard</td>\n",
       "      <td>True</td>\n",
       "      <td>Music</td>\n",
       "      <td>Rock</td>\n",
       "      <td>Pop</td>\n",
       "      <td>False</td>\n",
       "    </tr>\n",
       "    <tr>\n",
       "      <th>2</th>\n",
       "      <td>vvG1HZ4wKgz0ln</td>\n",
       "      <td>The Hella Mega Tour-Green Day/Fall Out Boy/Weezer</td>\n",
       "      <td>['Green Day', 'Fall Out Boy', 'Weezer', 'The I...</td>\n",
       "      <td>T-Mobile Park</td>\n",
       "      <td>Seattle</td>\n",
       "      <td>WA</td>\n",
       "      <td>47.590333</td>\n",
       "      <td>-122.332850</td>\n",
       "      <td>2021-07-15 00:30:00</td>\n",
       "      <td>False</td>\n",
       "      <td>LIVE NATION MUSIC</td>\n",
       "      <td>USD</td>\n",
       "      <td>189.50</td>\n",
       "      <td>39.50</td>\n",
       "      <td>standard</td>\n",
       "      <td>True</td>\n",
       "      <td>Music</td>\n",
       "      <td>Rock</td>\n",
       "      <td>Alternative Rock</td>\n",
       "      <td>False</td>\n",
       "    </tr>\n",
       "    <tr>\n",
       "      <th>3</th>\n",
       "      <td>vvG1HZpd6SnMVq</td>\n",
       "      <td>Chris Stapleton's All-American Road Show</td>\n",
       "      <td>['Chris Stapleton']</td>\n",
       "      <td>Gorge Amphitheatre</td>\n",
       "      <td>George</td>\n",
       "      <td>WA</td>\n",
       "      <td>47.095947</td>\n",
       "      <td>-119.982652</td>\n",
       "      <td>2021-06-13 02:00:00</td>\n",
       "      <td>False</td>\n",
       "      <td>LIVE NATION MUSIC</td>\n",
       "      <td>USD</td>\n",
       "      <td>99.75</td>\n",
       "      <td>39.75</td>\n",
       "      <td>standard</td>\n",
       "      <td>True</td>\n",
       "      <td>Music</td>\n",
       "      <td>Country</td>\n",
       "      <td>Country</td>\n",
       "      <td>False</td>\n",
       "    </tr>\n",
       "    <tr>\n",
       "      <th>4</th>\n",
       "      <td>vvG1HZ4UiS1gC7</td>\n",
       "      <td>Harry Styles: Love On Tour</td>\n",
       "      <td>['Harry Styles', 'Jenny Lewis']</td>\n",
       "      <td>Tacoma Dome</td>\n",
       "      <td>Tacoma</td>\n",
       "      <td>WA</td>\n",
       "      <td>47.236340</td>\n",
       "      <td>-122.426834</td>\n",
       "      <td>2021-08-15 03:00:00</td>\n",
       "      <td>False</td>\n",
       "      <td>LIVE NATION - NO LN CONCERTS BRANDING</td>\n",
       "      <td>USD</td>\n",
       "      <td>169.50</td>\n",
       "      <td>39.50</td>\n",
       "      <td>standard</td>\n",
       "      <td>True</td>\n",
       "      <td>Music</td>\n",
       "      <td>Pop</td>\n",
       "      <td>Pop</td>\n",
       "      <td>False</td>\n",
       "    </tr>\n",
       "  </tbody>\n",
       "</table>\n",
       "</div>"
      ],
      "text/plain": [
       "            TM_id                                            TM_name  \\\n",
       "0  vvG1HZ4UM7MxxI  A Thousand Thoughts: A live documentary with t...   \n",
       "1  vvG1HZ4z2Nhfmw  Def Leppard/Mötley Crüe/Poison/Joan Jett and t...   \n",
       "2  vvG1HZ4wKgz0ln  The Hella Mega Tour-Green Day/Fall Out Boy/Weezer   \n",
       "3  vvG1HZpd6SnMVq           Chris Stapleton's All-American Road Show   \n",
       "4  vvG1HZ4UiS1gC7                         Harry Styles: Love On Tour   \n",
       "\n",
       "                                           TM_artist            TM_venue  \\\n",
       "0                                 ['Kronos Quartet']       Moore Theatre   \n",
       "1  ['Def Leppard', 'Mötley Crüe', 'Poison', 'Joan...       T-Mobile Park   \n",
       "2  ['Green Day', 'Fall Out Boy', 'Weezer', 'The I...       T-Mobile Park   \n",
       "3                                ['Chris Stapleton']  Gorge Amphitheatre   \n",
       "4                    ['Harry Styles', 'Jenny Lewis']         Tacoma Dome   \n",
       "\n",
       "  TM_venue_city TM_venue_state  TM_venue _lat  TM_venue_long  \\\n",
       "0       Seattle             WA      47.653293    -122.359344   \n",
       "1       Seattle             WA      47.590333    -122.332850   \n",
       "2       Seattle             WA      47.590333    -122.332850   \n",
       "3        George             WA      47.095947    -119.982652   \n",
       "4        Tacoma             WA      47.236340    -122.426834   \n",
       "\n",
       "              TM_date  TM_span_multiple_days  \\\n",
       "0 2021-09-18 02:30:00                  False   \n",
       "1 2021-09-07 23:30:00                  False   \n",
       "2 2021-07-15 00:30:00                  False   \n",
       "3 2021-06-13 02:00:00                  False   \n",
       "4 2021-08-15 03:00:00                  False   \n",
       "\n",
       "                             TM_promoter currency     max    min    type_x  \\\n",
       "0                      PROMOTED BY VENUE      USD   70.00  40.00  standard   \n",
       "1                      LIVE NATION MUSIC      USD  750.00  69.50  standard   \n",
       "2                      LIVE NATION MUSIC      USD  189.50  39.50  standard   \n",
       "3                      LIVE NATION MUSIC      USD   99.75  39.75  standard   \n",
       "4  LIVE NATION - NO LN CONCERTS BRANDING      USD  169.50  39.50  standard   \n",
       "\n",
       "   primary         segment    genre          subGenre  family  \n",
       "0     True  Arts & Theatre    Music     Chamber Music   False  \n",
       "1     True           Music     Rock               Pop   False  \n",
       "2     True           Music     Rock  Alternative Rock   False  \n",
       "3     True           Music  Country           Country   False  \n",
       "4     True           Music      Pop               Pop   False  "
      ]
     },
     "execution_count": 25,
     "metadata": {},
     "output_type": "execute_result"
    }
   ],
   "source": [
    "df.head()"
   ]
  },
  {
   "cell_type": "code",
   "execution_count": 26,
   "metadata": {},
   "outputs": [],
   "source": [
    "def clean_tm_time(col):\n",
    "    df[col] = df[col].str.replace('T',' ')\n",
    "    \n",
    "    df[col] = df[col].str.replace('Z','')\n",
    "    \n",
    "    df.drop(df[df[col] == '{}'].index, inplace = True)\n",
    "    \n",
    "    #convert timestame to datetime dtype\n",
    "    df[col]= pd.to_datetime(df[col], format='%Y-%m-%d %H:%M:%S') \n",
    "    \n",
    "    return df[col] == df[col]\n",
    "    \n",
    "    "
   ]
  },
  {
   "cell_type": "code",
   "execution_count": 27,
   "metadata": {},
   "outputs": [],
   "source": [
    "df['TM_artist'] = df['TM_artist'].str.replace('[','')"
   ]
  },
  {
   "cell_type": "code",
   "execution_count": 28,
   "metadata": {},
   "outputs": [],
   "source": [
    "df['TM_artist'] = df['TM_artist'].str.replace(']','')"
   ]
  },
  {
   "cell_type": "code",
   "execution_count": 29,
   "metadata": {},
   "outputs": [],
   "source": [
    "df['TM_artist'] = df['TM_artist'].str.replace(\"'\",'')"
   ]
  },
  {
   "cell_type": "code",
   "execution_count": 30,
   "metadata": {},
   "outputs": [
    {
     "data": {
      "text/html": [
       "<div>\n",
       "<style scoped>\n",
       "    .dataframe tbody tr th:only-of-type {\n",
       "        vertical-align: middle;\n",
       "    }\n",
       "\n",
       "    .dataframe tbody tr th {\n",
       "        vertical-align: top;\n",
       "    }\n",
       "\n",
       "    .dataframe thead th {\n",
       "        text-align: right;\n",
       "    }\n",
       "</style>\n",
       "<table border=\"1\" class=\"dataframe\">\n",
       "  <thead>\n",
       "    <tr style=\"text-align: right;\">\n",
       "      <th></th>\n",
       "      <th>TM_id</th>\n",
       "      <th>TM_name</th>\n",
       "      <th>TM_artist</th>\n",
       "      <th>TM_venue</th>\n",
       "      <th>TM_venue_city</th>\n",
       "      <th>TM_venue_state</th>\n",
       "      <th>TM_venue _lat</th>\n",
       "      <th>TM_venue_long</th>\n",
       "      <th>TM_date</th>\n",
       "      <th>TM_span_multiple_days</th>\n",
       "      <th>TM_promoter</th>\n",
       "      <th>currency</th>\n",
       "      <th>max</th>\n",
       "      <th>min</th>\n",
       "      <th>type_x</th>\n",
       "      <th>primary</th>\n",
       "      <th>segment</th>\n",
       "      <th>genre</th>\n",
       "      <th>subGenre</th>\n",
       "      <th>family</th>\n",
       "    </tr>\n",
       "  </thead>\n",
       "  <tbody>\n",
       "    <tr>\n",
       "      <th>0</th>\n",
       "      <td>vvG1HZ4UM7MxxI</td>\n",
       "      <td>A Thousand Thoughts: A live documentary with t...</td>\n",
       "      <td>Kronos Quartet</td>\n",
       "      <td>Moore Theatre</td>\n",
       "      <td>Seattle</td>\n",
       "      <td>WA</td>\n",
       "      <td>47.653293</td>\n",
       "      <td>-122.359344</td>\n",
       "      <td>2021-09-18 02:30:00</td>\n",
       "      <td>False</td>\n",
       "      <td>PROMOTED BY VENUE</td>\n",
       "      <td>USD</td>\n",
       "      <td>70.00</td>\n",
       "      <td>40.00</td>\n",
       "      <td>standard</td>\n",
       "      <td>True</td>\n",
       "      <td>Arts &amp; Theatre</td>\n",
       "      <td>Music</td>\n",
       "      <td>Chamber Music</td>\n",
       "      <td>False</td>\n",
       "    </tr>\n",
       "    <tr>\n",
       "      <th>1</th>\n",
       "      <td>vvG1HZ4z2Nhfmw</td>\n",
       "      <td>Def Leppard/Mötley Crüe/Poison/Joan Jett and t...</td>\n",
       "      <td>Def Leppard, Mötley Crüe, Poison, Joan Jett &amp; ...</td>\n",
       "      <td>T-Mobile Park</td>\n",
       "      <td>Seattle</td>\n",
       "      <td>WA</td>\n",
       "      <td>47.590333</td>\n",
       "      <td>-122.332850</td>\n",
       "      <td>2021-09-07 23:30:00</td>\n",
       "      <td>False</td>\n",
       "      <td>LIVE NATION MUSIC</td>\n",
       "      <td>USD</td>\n",
       "      <td>750.00</td>\n",
       "      <td>69.50</td>\n",
       "      <td>standard</td>\n",
       "      <td>True</td>\n",
       "      <td>Music</td>\n",
       "      <td>Rock</td>\n",
       "      <td>Pop</td>\n",
       "      <td>False</td>\n",
       "    </tr>\n",
       "    <tr>\n",
       "      <th>2</th>\n",
       "      <td>vvG1HZ4wKgz0ln</td>\n",
       "      <td>The Hella Mega Tour-Green Day/Fall Out Boy/Weezer</td>\n",
       "      <td>Green Day, Fall Out Boy, Weezer, The Interrupt...</td>\n",
       "      <td>T-Mobile Park</td>\n",
       "      <td>Seattle</td>\n",
       "      <td>WA</td>\n",
       "      <td>47.590333</td>\n",
       "      <td>-122.332850</td>\n",
       "      <td>2021-07-15 00:30:00</td>\n",
       "      <td>False</td>\n",
       "      <td>LIVE NATION MUSIC</td>\n",
       "      <td>USD</td>\n",
       "      <td>189.50</td>\n",
       "      <td>39.50</td>\n",
       "      <td>standard</td>\n",
       "      <td>True</td>\n",
       "      <td>Music</td>\n",
       "      <td>Rock</td>\n",
       "      <td>Alternative Rock</td>\n",
       "      <td>False</td>\n",
       "    </tr>\n",
       "    <tr>\n",
       "      <th>3</th>\n",
       "      <td>vvG1HZpd6SnMVq</td>\n",
       "      <td>Chris Stapleton's All-American Road Show</td>\n",
       "      <td>Chris Stapleton</td>\n",
       "      <td>Gorge Amphitheatre</td>\n",
       "      <td>George</td>\n",
       "      <td>WA</td>\n",
       "      <td>47.095947</td>\n",
       "      <td>-119.982652</td>\n",
       "      <td>2021-06-13 02:00:00</td>\n",
       "      <td>False</td>\n",
       "      <td>LIVE NATION MUSIC</td>\n",
       "      <td>USD</td>\n",
       "      <td>99.75</td>\n",
       "      <td>39.75</td>\n",
       "      <td>standard</td>\n",
       "      <td>True</td>\n",
       "      <td>Music</td>\n",
       "      <td>Country</td>\n",
       "      <td>Country</td>\n",
       "      <td>False</td>\n",
       "    </tr>\n",
       "    <tr>\n",
       "      <th>4</th>\n",
       "      <td>vvG1HZ4UiS1gC7</td>\n",
       "      <td>Harry Styles: Love On Tour</td>\n",
       "      <td>Harry Styles, Jenny Lewis</td>\n",
       "      <td>Tacoma Dome</td>\n",
       "      <td>Tacoma</td>\n",
       "      <td>WA</td>\n",
       "      <td>47.236340</td>\n",
       "      <td>-122.426834</td>\n",
       "      <td>2021-08-15 03:00:00</td>\n",
       "      <td>False</td>\n",
       "      <td>LIVE NATION - NO LN CONCERTS BRANDING</td>\n",
       "      <td>USD</td>\n",
       "      <td>169.50</td>\n",
       "      <td>39.50</td>\n",
       "      <td>standard</td>\n",
       "      <td>True</td>\n",
       "      <td>Music</td>\n",
       "      <td>Pop</td>\n",
       "      <td>Pop</td>\n",
       "      <td>False</td>\n",
       "    </tr>\n",
       "  </tbody>\n",
       "</table>\n",
       "</div>"
      ],
      "text/plain": [
       "            TM_id                                            TM_name  \\\n",
       "0  vvG1HZ4UM7MxxI  A Thousand Thoughts: A live documentary with t...   \n",
       "1  vvG1HZ4z2Nhfmw  Def Leppard/Mötley Crüe/Poison/Joan Jett and t...   \n",
       "2  vvG1HZ4wKgz0ln  The Hella Mega Tour-Green Day/Fall Out Boy/Weezer   \n",
       "3  vvG1HZpd6SnMVq           Chris Stapleton's All-American Road Show   \n",
       "4  vvG1HZ4UiS1gC7                         Harry Styles: Love On Tour   \n",
       "\n",
       "                                           TM_artist            TM_venue  \\\n",
       "0                                     Kronos Quartet       Moore Theatre   \n",
       "1  Def Leppard, Mötley Crüe, Poison, Joan Jett & ...       T-Mobile Park   \n",
       "2  Green Day, Fall Out Boy, Weezer, The Interrupt...       T-Mobile Park   \n",
       "3                                    Chris Stapleton  Gorge Amphitheatre   \n",
       "4                          Harry Styles, Jenny Lewis         Tacoma Dome   \n",
       "\n",
       "  TM_venue_city TM_venue_state  TM_venue _lat  TM_venue_long  \\\n",
       "0       Seattle             WA      47.653293    -122.359344   \n",
       "1       Seattle             WA      47.590333    -122.332850   \n",
       "2       Seattle             WA      47.590333    -122.332850   \n",
       "3        George             WA      47.095947    -119.982652   \n",
       "4        Tacoma             WA      47.236340    -122.426834   \n",
       "\n",
       "              TM_date  TM_span_multiple_days  \\\n",
       "0 2021-09-18 02:30:00                  False   \n",
       "1 2021-09-07 23:30:00                  False   \n",
       "2 2021-07-15 00:30:00                  False   \n",
       "3 2021-06-13 02:00:00                  False   \n",
       "4 2021-08-15 03:00:00                  False   \n",
       "\n",
       "                             TM_promoter currency     max    min    type_x  \\\n",
       "0                      PROMOTED BY VENUE      USD   70.00  40.00  standard   \n",
       "1                      LIVE NATION MUSIC      USD  750.00  69.50  standard   \n",
       "2                      LIVE NATION MUSIC      USD  189.50  39.50  standard   \n",
       "3                      LIVE NATION MUSIC      USD   99.75  39.75  standard   \n",
       "4  LIVE NATION - NO LN CONCERTS BRANDING      USD  169.50  39.50  standard   \n",
       "\n",
       "   primary         segment    genre          subGenre  family  \n",
       "0     True  Arts & Theatre    Music     Chamber Music   False  \n",
       "1     True           Music     Rock               Pop   False  \n",
       "2     True           Music     Rock  Alternative Rock   False  \n",
       "3     True           Music  Country           Country   False  \n",
       "4     True           Music      Pop               Pop   False  "
      ]
     },
     "execution_count": 30,
     "metadata": {},
     "output_type": "execute_result"
    }
   ],
   "source": [
    "df.head()"
   ]
  },
  {
   "cell_type": "code",
   "execution_count": 31,
   "metadata": {},
   "outputs": [
    {
     "data": {
      "text/plain": [
       "(3505, 20)"
      ]
     },
     "execution_count": 31,
     "metadata": {},
     "output_type": "execute_result"
    }
   ],
   "source": [
    "df.shape"
   ]
  },
  {
   "cell_type": "code",
   "execution_count": 32,
   "metadata": {},
   "outputs": [
    {
     "name": "stdout",
     "output_type": "stream",
     "text": [
      "<class 'pandas.core.frame.DataFrame'>\n",
      "Int64Index: 3505 entries, 0 to 3572\n",
      "Data columns (total 20 columns):\n",
      " #   Column                 Non-Null Count  Dtype         \n",
      "---  ------                 --------------  -----         \n",
      " 0   TM_id                  3505 non-null   object        \n",
      " 1   TM_name                3505 non-null   object        \n",
      " 2   TM_artist              3505 non-null   object        \n",
      " 3   TM_venue               3505 non-null   object        \n",
      " 4   TM_venue_city          3505 non-null   object        \n",
      " 5   TM_venue_state         3505 non-null   object        \n",
      " 6   TM_venue _lat          3505 non-null   float64       \n",
      " 7   TM_venue_long          3505 non-null   float64       \n",
      " 8   TM_date                3505 non-null   datetime64[ns]\n",
      " 9   TM_span_multiple_days  3505 non-null   bool          \n",
      " 10  TM_promoter            3505 non-null   object        \n",
      " 11  currency               3291 non-null   object        \n",
      " 12  max                    3291 non-null   float64       \n",
      " 13  min                    3291 non-null   float64       \n",
      " 14  type_x                 3291 non-null   object        \n",
      " 15  primary                3505 non-null   bool          \n",
      " 16  segment                3505 non-null   object        \n",
      " 17  genre                  3505 non-null   object        \n",
      " 18  subGenre               3505 non-null   object        \n",
      " 19  family                 3505 non-null   bool          \n",
      "dtypes: bool(3), datetime64[ns](1), float64(4), object(12)\n",
      "memory usage: 503.2+ KB\n"
     ]
    }
   ],
   "source": [
    "df.info()"
   ]
  },
  {
   "cell_type": "code",
   "execution_count": 33,
   "metadata": {},
   "outputs": [],
   "source": [
    "df.dropna(inplace=True)"
   ]
  },
  {
   "cell_type": "code",
   "execution_count": 34,
   "metadata": {},
   "outputs": [
    {
     "name": "stdout",
     "output_type": "stream",
     "text": [
      "<class 'pandas.core.frame.DataFrame'>\n",
      "Int64Index: 3291 entries, 0 to 3572\n",
      "Data columns (total 20 columns):\n",
      " #   Column                 Non-Null Count  Dtype         \n",
      "---  ------                 --------------  -----         \n",
      " 0   TM_id                  3291 non-null   object        \n",
      " 1   TM_name                3291 non-null   object        \n",
      " 2   TM_artist              3291 non-null   object        \n",
      " 3   TM_venue               3291 non-null   object        \n",
      " 4   TM_venue_city          3291 non-null   object        \n",
      " 5   TM_venue_state         3291 non-null   object        \n",
      " 6   TM_venue _lat          3291 non-null   float64       \n",
      " 7   TM_venue_long          3291 non-null   float64       \n",
      " 8   TM_date                3291 non-null   datetime64[ns]\n",
      " 9   TM_span_multiple_days  3291 non-null   bool          \n",
      " 10  TM_promoter            3291 non-null   object        \n",
      " 11  currency               3291 non-null   object        \n",
      " 12  max                    3291 non-null   float64       \n",
      " 13  min                    3291 non-null   float64       \n",
      " 14  type_x                 3291 non-null   object        \n",
      " 15  primary                3291 non-null   bool          \n",
      " 16  segment                3291 non-null   object        \n",
      " 17  genre                  3291 non-null   object        \n",
      " 18  subGenre               3291 non-null   object        \n",
      " 19  family                 3291 non-null   bool          \n",
      "dtypes: bool(3), datetime64[ns](1), float64(4), object(12)\n",
      "memory usage: 472.4+ KB\n"
     ]
    }
   ],
   "source": [
    "df.info()"
   ]
  },
  {
   "cell_type": "code",
   "execution_count": 35,
   "metadata": {},
   "outputs": [
    {
     "data": {
      "text/plain": [
       "<AxesSubplot:>"
      ]
     },
     "execution_count": 35,
     "metadata": {},
     "output_type": "execute_result"
    },
    {
     "data": {
      "image/png": "[encoded data removed]",
      "text/plain": [
       "<Figure size 936x504 with 1 Axes>"
      ]
     },
     "metadata": {},
     "output_type": "display_data"
    }
   ],
   "source": [
    "df['max'].hist()"
   ]
  },
  {
   "cell_type": "code",
   "execution_count": 36,
   "metadata": {},
   "outputs": [
    {
     "data": {
      "text/plain": [
       "<AxesSubplot:>"
      ]
     },
     "execution_count": 36,
     "metadata": {},
     "output_type": "execute_result"
    },
    {
     "data": {
      "image/png": "[encoded data removed]",
      "text/plain": [
       "<Figure size 936x504 with 1 Axes>"
      ]
     },
     "metadata": {},
     "output_type": "display_data"
    }
   ],
   "source": [
    "df['min'].hist()"
   ]
  },
  {
   "cell_type": "code",
   "execution_count": 37,
   "metadata": {},
   "outputs": [
    {
     "data": {
      "text/plain": [
       "1"
      ]
     },
     "execution_count": 37,
     "metadata": {},
     "output_type": "execute_result"
    }
   ],
   "source": [
    "df.currency.nunique()"
   ]
  },
  {
   "cell_type": "code",
   "execution_count": 38,
   "metadata": {},
   "outputs": [],
   "source": [
    "df.drop(columns={'currency'}, inplace=True)"
   ]
  },
  {
   "cell_type": "code",
   "execution_count": 39,
   "metadata": {},
   "outputs": [
    {
     "data": {
      "image/png": "[encoded data removed]",
      "text/plain": [
       "<Figure size 936x504 with 1 Axes>"
      ]
     },
     "metadata": {},
     "output_type": "display_data"
    }
   ],
   "source": [
    "df.genre.hist()\n",
    "plt.xticks(rotation='vertical')\n",
    "plt.show()"
   ]
  },
  {
   "cell_type": "code",
   "execution_count": 40,
   "metadata": {},
   "outputs": [],
   "source": [
    "#set timestamp as index\n",
    "df = df.set_index('TM_date')"
   ]
  },
  {
   "cell_type": "code",
   "execution_count": 41,
   "metadata": {},
   "outputs": [
    {
     "data": {
      "text/plain": [
       "<AxesSubplot:xlabel='TM_date'>"
      ]
     },
     "execution_count": 41,
     "metadata": {},
     "output_type": "execute_result"
    },
    {
     "data": {
      "image/png": "[encoded data removed]",
      "text/plain": [
       "<Figure size 936x504 with 1 Axes>"
      ]
     },
     "metadata": {},
     "output_type": "display_data"
    }
   ],
   "source": [
    "#Visualize the amount of shows by day\n",
    "df.resample('D').TM_id.count().plot()"
   ]
  },
  {
   "cell_type": "code",
   "execution_count": 42,
   "metadata": {},
   "outputs": [],
   "source": [
    "#Create a column for month\n",
    "df['month'] = df.index.month_name()"
   ]
  },
  {
   "cell_type": "code",
   "execution_count": 43,
   "metadata": {},
   "outputs": [
    {
     "data": {
      "image/png": "[encoded data removed]",
      "text/plain": [
       "<Figure size 720x360 with 1 Axes>"
      ]
     },
     "metadata": {},
     "output_type": "display_data"
    }
   ],
   "source": [
    "#Boxplot\n",
    "plt.figure(figsize=(10, 5))\n",
    "g = sns.boxplot(data = df, x = 'month', y = 'max')\n",
    "plt.title('Average Max Ticket Price By Month')\n",
    "g.set(xticklabels=['Sep','Oct','Nov','Dec','Jan','March','Apr','May','June','July','Aug','Sep'])\n",
    "plt.xlabel('Months')\n",
    "plt.show()"
   ]
  },
  {
   "cell_type": "code",
   "execution_count": 44,
   "metadata": {},
   "outputs": [
    {
     "data": {
      "text/html": [
       "<div>\n",
       "<style scoped>\n",
       "    .dataframe tbody tr th:only-of-type {\n",
       "        vertical-align: middle;\n",
       "    }\n",
       "\n",
       "    .dataframe tbody tr th {\n",
       "        vertical-align: top;\n",
       "    }\n",
       "\n",
       "    .dataframe thead th {\n",
       "        text-align: right;\n",
       "    }\n",
       "</style>\n",
       "<table border=\"1\" class=\"dataframe\">\n",
       "  <thead>\n",
       "    <tr style=\"text-align: right;\">\n",
       "      <th></th>\n",
       "      <th>TM_id</th>\n",
       "      <th>TM_name</th>\n",
       "      <th>TM_artist</th>\n",
       "      <th>TM_venue</th>\n",
       "      <th>TM_venue_city</th>\n",
       "      <th>TM_venue_state</th>\n",
       "      <th>TM_venue _lat</th>\n",
       "      <th>TM_venue_long</th>\n",
       "      <th>TM_span_multiple_days</th>\n",
       "      <th>TM_promoter</th>\n",
       "      <th>max</th>\n",
       "      <th>min</th>\n",
       "      <th>type_x</th>\n",
       "      <th>primary</th>\n",
       "      <th>segment</th>\n",
       "      <th>genre</th>\n",
       "      <th>subGenre</th>\n",
       "      <th>family</th>\n",
       "      <th>month</th>\n",
       "    </tr>\n",
       "    <tr>\n",
       "      <th>TM_date</th>\n",
       "      <th></th>\n",
       "      <th></th>\n",
       "      <th></th>\n",
       "      <th></th>\n",
       "      <th></th>\n",
       "      <th></th>\n",
       "      <th></th>\n",
       "      <th></th>\n",
       "      <th></th>\n",
       "      <th></th>\n",
       "      <th></th>\n",
       "      <th></th>\n",
       "      <th></th>\n",
       "      <th></th>\n",
       "      <th></th>\n",
       "      <th></th>\n",
       "      <th></th>\n",
       "      <th></th>\n",
       "      <th></th>\n",
       "    </tr>\n",
       "  </thead>\n",
       "  <tbody>\n",
       "    <tr>\n",
       "      <th>2021-08-15 20:30:00</th>\n",
       "      <td>vvG1zZ4z2fD4hl</td>\n",
       "      <td>Def Leppard/Mötley Crüe/Poison/Joan Jett and t...</td>\n",
       "      <td>Def Leppard, Mötley Crüe, Poison, Joan Jett &amp; ...</td>\n",
       "      <td>Truist Park</td>\n",
       "      <td>Atlanta</td>\n",
       "      <td>GA</td>\n",
       "      <td>33.890304</td>\n",
       "      <td>-84.468127</td>\n",
       "      <td>False</td>\n",
       "      <td>MLB REGULAR SEASON</td>\n",
       "      <td>4255.5</td>\n",
       "      <td>65.0</td>\n",
       "      <td>standard</td>\n",
       "      <td>True</td>\n",
       "      <td>Music</td>\n",
       "      <td>Rock</td>\n",
       "      <td>Pop</td>\n",
       "      <td>False</td>\n",
       "      <td>August</td>\n",
       "    </tr>\n",
       "    <tr>\n",
       "      <th>2021-12-02 21:30:00</th>\n",
       "      <td>vvG1zZpI9poe7D</td>\n",
       "      <td>Onsale Readiness: Face Value Exchange</td>\n",
       "      <td>Test Attraction</td>\n",
       "      <td>Road Atlanta</td>\n",
       "      <td>Braselton</td>\n",
       "      <td>GA</td>\n",
       "      <td>34.162504</td>\n",
       "      <td>-83.827095</td>\n",
       "      <td>False</td>\n",
       "      <td>PROMOTED BY VENUE</td>\n",
       "      <td>4255.5</td>\n",
       "      <td>5.5</td>\n",
       "      <td>standard</td>\n",
       "      <td>True</td>\n",
       "      <td>Music</td>\n",
       "      <td>Rock</td>\n",
       "      <td>Alternative Rock</td>\n",
       "      <td>False</td>\n",
       "      <td>December</td>\n",
       "    </tr>\n",
       "  </tbody>\n",
       "</table>\n",
       "</div>"
      ],
      "text/plain": [
       "                              TM_id  \\\n",
       "TM_date                               \n",
       "2021-08-15 20:30:00  vvG1zZ4z2fD4hl   \n",
       "2021-12-02 21:30:00  vvG1zZpI9poe7D   \n",
       "\n",
       "                                                               TM_name  \\\n",
       "TM_date                                                                  \n",
       "2021-08-15 20:30:00  Def Leppard/Mötley Crüe/Poison/Joan Jett and t...   \n",
       "2021-12-02 21:30:00              Onsale Readiness: Face Value Exchange   \n",
       "\n",
       "                                                             TM_artist  \\\n",
       "TM_date                                                                  \n",
       "2021-08-15 20:30:00  Def Leppard, Mötley Crüe, Poison, Joan Jett & ...   \n",
       "2021-12-02 21:30:00                                    Test Attraction   \n",
       "\n",
       "                         TM_venue TM_venue_city TM_venue_state  TM_venue _lat  \\\n",
       "TM_date                                                                         \n",
       "2021-08-15 20:30:00   Truist Park       Atlanta             GA      33.890304   \n",
       "2021-12-02 21:30:00  Road Atlanta     Braselton             GA      34.162504   \n",
       "\n",
       "                     TM_venue_long  TM_span_multiple_days         TM_promoter  \\\n",
       "TM_date                                                                         \n",
       "2021-08-15 20:30:00     -84.468127                  False  MLB REGULAR SEASON   \n",
       "2021-12-02 21:30:00     -83.827095                  False   PROMOTED BY VENUE   \n",
       "\n",
       "                        max   min    type_x  primary segment genre  \\\n",
       "TM_date                                                              \n",
       "2021-08-15 20:30:00  4255.5  65.0  standard     True   Music  Rock   \n",
       "2021-12-02 21:30:00  4255.5   5.5  standard     True   Music  Rock   \n",
       "\n",
       "                             subGenre  family     month  \n",
       "TM_date                                                  \n",
       "2021-08-15 20:30:00               Pop   False    August  \n",
       "2021-12-02 21:30:00  Alternative Rock   False  December  "
      ]
     },
     "execution_count": 44,
     "metadata": {},
     "output_type": "execute_result"
    }
   ],
   "source": [
    "#What show has the max ticket price?\n",
    "df[(df['max'] == df['max'].max())]"
   ]
  },
  {
   "cell_type": "code",
   "execution_count": 45,
   "metadata": {},
   "outputs": [
    {
     "data": {
      "image/png": "[encoded data removed]",
      "text/plain": [
       "<Figure size 936x504 with 1 Axes>"
      ]
     },
     "metadata": {},
     "output_type": "display_data"
    }
   ],
   "source": [
    "df.groupby('genre').TM_id.count().plot()\n",
    "plt.xticks(rotation='vertical')\n",
    "plt.show()"
   ]
  },
  {
   "cell_type": "code",
   "execution_count": null,
   "metadata": {},
   "outputs": [],
   "source": []
  },
  {
   "cell_type": "code",
   "execution_count": null,
   "metadata": {},
   "outputs": [],
   "source": []
  }
 ],
 "metadata": {
  "kernelspec": {
   "display_name": "Python 3",
   "language": "python",
   "name": "python3"
  },
  "language_info": {
   "codemirror_mode": {
    "name": "ipython",
    "version": 3
   },
   "file_extension": ".py",
   "mimetype": "text/x-python",
   "name": "python",
   "nbconvert_exporter": "python",
   "pygments_lexer": "ipython3",
   "version": "3.8.5"
  }
 },
 "nbformat": 4,
 "nbformat_minor": 4
}
